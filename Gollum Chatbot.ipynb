{
 "cells": [
  {
   "cell_type": "code",
   "execution_count": null,
   "metadata": {},
   "outputs": [],
   "source": [
    "nltk.download()"
   ]
  },
  {
   "cell_type": "code",
   "execution_count": null,
   "metadata": {},
   "outputs": [],
   "source": [
    "import nltk\n",
    "import numpy as np\n",
    "import random\n",
    "import string #To process standard python strings"
   ]
  },
  {
   "cell_type": "code",
   "execution_count": null,
   "metadata": {},
   "outputs": [],
   "source": [
    "f=open('/Users/Henry/lordofthering.txt','r',errors = 'ignore')\n",
    "raw=f.read()\n",
    "raw=raw.lower()# converts to lowercase\n",
    "sent_precious = nltk.sent_tokenize(raw)# converts to list of sentences \n",
    "word_precious = nltk.word_tokenize(raw)# converts to list of words"
   ]
  },
  {
   "cell_type": "code",
   "execution_count": null,
   "metadata": {},
   "outputs": [],
   "source": [
    "ring = nltk.stem.WordNetLemmatizer()\n",
    "#WordNet is a semantically-oriented dictionary of English included in NLTK.\n",
    "def RingPrecious(swords):\n",
    "    return [ring.lemmatize(sword) for sword in swords]\n",
    "\n",
    "remove_dot_ring = dict((ord(dot), None) for dot in string.punctuation)\n",
    "\n",
    "def RingNormalize(arrow):\n",
    "    return RingPrecious(nltk.word_tokenize(arrow.lower().translate(remove_dot_ring)))"
   ]
  },
  {
   "cell_type": "code",
   "execution_count": null,
   "metadata": {},
   "outputs": [],
   "source": [
    "start_inputs = (\"hello\", \"hey\",\"hi\",\"greetings\",\"good morning\", \"good afternoon\",\"good evening\")\n",
    "start_outputs = [\"the Master is talking to me? I'm so glad\", \"Precious, ask us questions\",\"GOLLUM GOLLUM GOLLUM\",\"Where is the precious ?\"]\n",
    "\n",
    "def gollumanswer(inputs): \n",
    "    for word in inputs.split():\n",
    "        if word.lower() in start_inputs:\n",
    "            return random.choice(start_outputs)"
   ]
  },
  {
   "cell_type": "code",
   "execution_count": null,
   "metadata": {},
   "outputs": [],
   "source": [
    "from sklearn.feature_extraction.text import TfidfVectorizer"
   ]
  },
  {
   "cell_type": "code",
   "execution_count": null,
   "metadata": {},
   "outputs": [],
   "source": [
    "from sklearn.metrics.pairwise import cosine_similarity"
   ]
  },
  {
   "cell_type": "code",
   "execution_count": null,
   "metadata": {},
   "outputs": [],
   "source": [
    "def questofthering(master_input):\n",
    "    gollum_output=''\n",
    "    sent_precious.append(master_input)\n",
    "    TfidfVec = TfidfVectorizer(tokenizer=RingNormalize, stop_words='english')\n",
    "    tfidf = TfidfVec.fit_transform(sent_precious)\n",
    "    vals = cosine_similarity(tfidf[-1], tfidf)\n",
    "    idx=vals.argsort()[0][-2]\n",
    "    flat = vals.flatten()\n",
    "    flat.sort()\n",
    "    req_tfidf = flat[-2]\n",
    "    if(req_tfidf==0):\n",
    "        gollum_output=gollum_output+\"YOU SHALL NOT PASS. Sméagol wants you to rephrase\"\n",
    "        return gollum_output\n",
    "    else:\n",
    "        gollum_output = gollum_output+sent_precious[idx]\n",
    "        return gollum_output"
   ]
  },
  {
   "cell_type": "code",
   "execution_count": null,
   "metadata": {},
   "outputs": [],
   "source": [
    "gollumpanic =[\"The Master is tough\", \"Master should be resting, Master needs to keep up his strength\", \"Stop asking questions you fat Hobbit\"]\n",
    "\n",
    "def last(master_input):\n",
    "    splint_ring=[]\n",
    "    Frodon=[]\n",
    "    splint_ring=master_input.split()\n",
    "    Frodon= splint_ring[len(splint_ring)-1]\n",
    "    return (Frodon)"
   ]
  },
  {
   "cell_type": "code",
   "execution_count": null,
   "metadata": {
    "scrolled": true
   },
   "outputs": [],
   "source": [
    "flag=True\n",
    "    \n",
    "print(\"GOLLUM: Sméagol is here to serve the Master. Ask Sméagol about the precious: introduction, prologue, the fellowship, thetwotowers. Sméagol can develop further if you say morecategoryname. Say 'precious' to stop talking to Sméagol.\")\n",
    "\n",
    "while(flag==True):\n",
    "    master_input = input()\n",
    "    master_input=master_input.lower()\n",
    "    if(master_input!='precious'):\n",
    "        if(master_input=='thanks' or master_input=='thank you' ):\n",
    "            flag=False\n",
    "            print(\"GOLLUM: Let the precious be with you\")\n",
    "        else:\n",
    "            if(gollumanswer(master_input)!=None):\n",
    "                print(\"GOLLUM: \"+gollumanswer(master_input))\n",
    "            else:\n",
    "                if (last(master_input)=='?'):\n",
    "                    print(\"GOLLUM: \"+random.choice(gollumpanic))\n",
    "                else:\n",
    "                    print(\"GOLLUM: \",end=\"\")\n",
    "                    print(questofthering(master_input))\n",
    "                    sent_precious.remove(master_input)\n",
    "    else:\n",
    "        flag=False\n",
    "        print(\"GOLLUM: GIVE IT TO US !\")"
   ]
  }
 ],
 "metadata": {
  "kernelspec": {
   "display_name": "Python 3",
   "language": "python",
   "name": "python3"
  },
  "language_info": {
   "codemirror_mode": {
    "name": "ipython",
    "version": 3
   },
   "file_extension": ".py",
   "mimetype": "text/x-python",
   "name": "python",
   "nbconvert_exporter": "python",
   "pygments_lexer": "ipython3",
   "version": "3.7.0"
  }
 },
 "nbformat": 4,
 "nbformat_minor": 2
}

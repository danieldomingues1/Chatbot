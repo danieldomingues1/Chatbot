{
 "cells": [
  {
   "cell_type": "code",
   "execution_count": 2,
   "metadata": {},
   "outputs": [
    {
     "name": "stdout",
     "output_type": "stream",
     "text": [
      "showing info https://raw.githubusercontent.com/nltk/nltk_data/gh-pages/index.xml\n"
     ]
    },
    {
     "data": {
      "text/plain": [
       "True"
      ]
     },
     "execution_count": 2,
     "metadata": {},
     "output_type": "execute_result"
    }
   ],
   "source": [
    "nltk.download()"
   ]
  },
  {
   "cell_type": "code",
   "execution_count": 1,
   "metadata": {},
   "outputs": [],
   "source": [
    "import nltk\n",
    "import numpy as np\n",
    "import random\n",
    "import string #To process standard python strings"
   ]
  },
  {
   "cell_type": "code",
   "execution_count": 3,
   "metadata": {},
   "outputs": [],
   "source": [
    "f=open('/Users/Henry/lordofthering.txt','r',errors = 'ignore')\n",
    "raw=f.read()\n",
    "raw=raw.lower()# converts to lowercase\n",
    "sent_precious = nltk.sent_tokenize(raw)# converts to list of sentences \n",
    "word_precious = nltk.word_tokenize(raw)# converts to list of words"
   ]
  },
  {
   "cell_type": "code",
   "execution_count": 6,
   "metadata": {},
   "outputs": [],
   "source": [
    "ring = nltk.stem.WordNetLemmatizer()\n",
    "#WordNet is a semantically-oriented dictionary of English included in NLTK.\n",
    "def RingPrecious(swords):\n",
    "    return [ring.lemmatize(sword) for sword in swords]\n",
    "\n",
    "remove_dot_ring = dict((ord(dot), None) for dot in string.punctuation)\n",
    "\n",
    "def RingNormalize(arrow):\n",
    "    return RingPrecious(nltk.word_tokenize(arrow.lower().translate(remove_dot_ring)))"
   ]
  },
  {
   "cell_type": "code",
   "execution_count": 7,
   "metadata": {},
   "outputs": [],
   "source": [
    "start_inputs = (\"hello\", \"hey\",\"hi\",\"greetings\",\"good morning\", \"good afternoon\",\"good evening\")\n",
    "start_outputs = [\"the Master is talking to me? I'm so glad\", \"Precious, ask us questions\",\"GOLLUM GOLLUM GOLLUM\",\"Where is the precious ?\"]\n",
    "\n",
    "def gollumanswer(inputs): \n",
    "    for word in inputs.split():\n",
    "        if word.lower() in start_inputs:\n",
    "            return random.choice(start_outputs)"
   ]
  },
  {
   "cell_type": "code",
   "execution_count": 8,
   "metadata": {},
   "outputs": [],
   "source": [
    "from sklearn.feature_extraction.text import TfidfVectorizer"
   ]
  },
  {
   "cell_type": "code",
   "execution_count": 9,
   "metadata": {},
   "outputs": [],
   "source": [
    "from sklearn.metrics.pairwise import cosine_similarity"
   ]
  },
  {
   "cell_type": "code",
   "execution_count": 10,
   "metadata": {},
   "outputs": [],
   "source": [
    "def questofthering(master_input):\n",
    "    gollum_output=''\n",
    "    sent_precious.append(master_input)\n",
    "    TfidfVec = TfidfVectorizer(tokenizer=RingNormalize, stop_words='english')\n",
    "    tfidf = TfidfVec.fit_transform(sent_precious)\n",
    "    vals = cosine_similarity(tfidf[-1], tfidf)\n",
    "    idx=vals.argsort()[0][-2]\n",
    "    flat = vals.flatten()\n",
    "    flat.sort()\n",
    "    req_tfidf = flat[-2]\n",
    "    if(req_tfidf==0):\n",
    "        gollum_output=gollum_output+\"YOU SHALL NOT PASS. Sméagol wants you to rephrase\"\n",
    "        return gollum_output\n",
    "    else:\n",
    "        gollum_output = gollum_output+sent_precious[idx]\n",
    "        return gollum_output"
   ]
  },
  {
   "cell_type": "code",
   "execution_count": 11,
   "metadata": {},
   "outputs": [
    {
     "name": "stdout",
     "output_type": "stream",
     "text": [
      "GOLLUM: Sméagol is here to serve the Master. Ask Sméagol about the precious: Introduction, Prologue. Sméagol can develop further if you say more&categoryname. Say 'PRECIOUS' to stop talking to Sméagol.\n",
      "hey\n",
      "GOLLUM: Precious, ask us questions\n",
      "hello\n",
      "GOLLUM: GOLLUM GOLLUM GOLLUM\n",
      "how are you doing?\n",
      "GOLLUM: YOU SHALL NOT PASS. Sméagol wants you to rephrase\n",
      "introduction\n",
      "GOLLUM: introduction: the lord of the rings is an epic high fantasy novel written by english author and scholar tolkien; written in stages between 1937 and 1949, the lord of the rings is one of the best-selling novels ever written, with over 150 million copies sold.\n",
      "moreintroduction\n",
      "GOLLUM: moreintroduction: the title of the novel refers to the story's main antagonist, the dark lord sauron,who had in an earlier age created the one ring to rule the other rings of power as the ultimate weapon in his campaign to conquer and rule all of middle-earth; from quiet beginnings in the shire, a hobbit land not unlike the english countryside, the story ranges across middle-earth, following the course of the war of the ring through the eyes of its characters, not only the hobbits frodo baggins, samwise \"sam\" gamgee, meriadoc \"merry\" brandybuckand peregrin \"pippin\" took, but also the hobbits' chief allies and travelling companions: the men, aragorn, a ranger of the north, and boromir, a captain of gondor; gimli, a dwarf warrior; legolas greenleaf, an elven prince; and gandalf, a wizard.\n",
      "thefellowship\n",
      "GOLLUM: moreprologue: over two thousand years later, the ring was found by one of the river-folk called déagol; his friend sméagol fell under the ring's influence and strangled déagol to acquire it; sméagol was banished and hid under the misty mountains; the ring gave him long life and changed him over hundreds of years into a twisted, corrupted creature called gollum; gollum lost the ring, his \"precious\", and as told in the hobbit, bilbo baggins found it; meanwhile, sauron assumed a new form and took back his old realm of mordor; when gollum set out in search of the ring, he was captured and tortured by sauron; sauron learned from gollum that \"baggins\" of the shire had taken the ring; gollum was set loose; sauron, who needed the ring to regain his full power, sent forth his powerful servants, the nazgûl, to seize it\n",
      "\n",
      "thefellowship: the story begins in the shire, where the hobbit frodo baggins inherits the ring from bilbo baggins, his cousin and guardian; neither hobbit is aware of the ring's nature, but gandalf the grey, a wizard and an old friend of bilbo, suspects it to be sauron's ring; seventeen years later, after gandalf confirms his guess, he tells frodo the history of the ring and counsels him to take it away from the shire; frodo sets out, accompanied by his gardener, servant and friend, samwise \"sam\" gamgee, and two cousins, meriadoc \"merry\" brandybuck and peregrin \"pippin\" took; they are nearly caught by the black riders, but shake off their pursuers by cutting through the old forest; there they are aided by tom bombadil, a strange and merry fellow who lives with his wife goldberry in the forest.\n",
      "precious\n",
      "GOLLUM: GIVE IT TO US !\n"
     ]
    }
   ],
   "source": [
    "flag=True\n",
    "print(\"GOLLUM: Sméagol is here to serve the Master. Ask Sméagol about the precious: introduction, prologue, the fellowship, thetwotowers. Sméagol can develop further if you say morecategoryname. Say 'PRECIOUS' to stop talking to Sméagol.\")\n",
    "\n",
    "while(flag==True):\n",
    "    master_input = input()\n",
    "    master_input=master_input.lower()\n",
    "    if(master_input!='precious'):\n",
    "        if(master_input=='thanks' or master_input=='thank you' ):\n",
    "            flag=False\n",
    "            print(\"GOLLUM: Let the precious be with you\")\n",
    "        else:\n",
    "            if(gollumanswer(master_input)!=None):\n",
    "                print(\"GOLLUM: \"+gollumanswer(master_input))\n",
    "            else:\n",
    "                print(\"GOLLUM: \",end=\"\")\n",
    "                print(questofthering(master_input))\n",
    "                sent_precious.remove(master_input)\n",
    "    else:\n",
    "        flag=False\n",
    "        print(\"GOLLUM: GIVE IT TO US !\")"
   ]
  },
  {
   "cell_type": "code",
   "execution_count": null,
   "metadata": {},
   "outputs": [],
   "source": []
  }
 ],
 "metadata": {
  "kernelspec": {
   "display_name": "Python 3",
   "language": "python",
   "name": "python3"
  },
  "language_info": {
   "codemirror_mode": {
    "name": "ipython",
    "version": 3
   },
   "file_extension": ".py",
   "mimetype": "text/x-python",
   "name": "python",
   "nbconvert_exporter": "python",
   "pygments_lexer": "ipython3",
   "version": "3.7.0"
  }
 },
 "nbformat": 4,
 "nbformat_minor": 2
}
